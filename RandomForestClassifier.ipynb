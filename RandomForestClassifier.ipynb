{
 "cells": [
  {
   "cell_type": "code",
   "execution_count": 1,
   "id": "59a62f50",
   "metadata": {},
   "outputs": [],
   "source": [
    "import pandas as pd\n",
    "from sklearn.metrics import accuracy_score\n",
    "import nltk\n",
    "from sklearn import linear_model\n",
    "from sklearn.ensemble import RandomForestClassifier\n",
    "from nltk.corpus import stopwords\n",
    "from textblob import Word\n",
    "from sklearn.model_selection import train_test_split, cross_val_score\n",
    "from sklearn.feature_extraction.text import CountVectorizer, TfidfVectorizer, TfidfTransformer\n",
    "from sklearn.naive_bayes import MultinomialNB\n",
    "from sklearn.pipeline import Pipeline\n",
    "from sklearn.metrics import confusion_matrix, accuracy_score, classification_report\n",
    "from sklearn.naive_bayes import GaussianNB"
   ]
  },
  {
   "cell_type": "code",
   "execution_count": 2,
   "id": "05047b95",
   "metadata": {},
   "outputs": [],
   "source": [
    "csv_bbc_news=pd.read_csv(\"bbc-news-data.csv\", sep=\"\\t\")"
   ]
  },
  {
   "cell_type": "code",
   "execution_count": 3,
   "id": "bc7b1a20",
   "metadata": {},
   "outputs": [
    {
     "data": {
      "text/html": [
       "<div>\n",
       "<style scoped>\n",
       "    .dataframe tbody tr th:only-of-type {\n",
       "        vertical-align: middle;\n",
       "    }\n",
       "\n",
       "    .dataframe tbody tr th {\n",
       "        vertical-align: top;\n",
       "    }\n",
       "\n",
       "    .dataframe thead th {\n",
       "        text-align: right;\n",
       "    }\n",
       "</style>\n",
       "<table border=\"1\" class=\"dataframe\">\n",
       "  <thead>\n",
       "    <tr style=\"text-align: right;\">\n",
       "      <th></th>\n",
       "      <th>category</th>\n",
       "      <th>filename</th>\n",
       "      <th>title</th>\n",
       "      <th>content</th>\n",
       "    </tr>\n",
       "  </thead>\n",
       "  <tbody>\n",
       "    <tr>\n",
       "      <th>0</th>\n",
       "      <td>business</td>\n",
       "      <td>001.txt</td>\n",
       "      <td>Ad sales boost Time Warner profit</td>\n",
       "      <td>Quarterly profits at US media giant TimeWarne...</td>\n",
       "    </tr>\n",
       "    <tr>\n",
       "      <th>1</th>\n",
       "      <td>business</td>\n",
       "      <td>002.txt</td>\n",
       "      <td>Dollar gains on Greenspan speech</td>\n",
       "      <td>The dollar has hit its highest level against ...</td>\n",
       "    </tr>\n",
       "    <tr>\n",
       "      <th>2</th>\n",
       "      <td>business</td>\n",
       "      <td>003.txt</td>\n",
       "      <td>Yukos unit buyer faces loan claim</td>\n",
       "      <td>The owners of embattled Russian oil giant Yuk...</td>\n",
       "    </tr>\n",
       "    <tr>\n",
       "      <th>3</th>\n",
       "      <td>business</td>\n",
       "      <td>004.txt</td>\n",
       "      <td>High fuel prices hit BA's profits</td>\n",
       "      <td>British Airways has blamed high fuel prices f...</td>\n",
       "    </tr>\n",
       "    <tr>\n",
       "      <th>4</th>\n",
       "      <td>business</td>\n",
       "      <td>005.txt</td>\n",
       "      <td>Pernod takeover talk lifts Domecq</td>\n",
       "      <td>Shares in UK drinks and food firm Allied Dome...</td>\n",
       "    </tr>\n",
       "  </tbody>\n",
       "</table>\n",
       "</div>"
      ],
      "text/plain": [
       "   category filename                              title  \\\n",
       "0  business  001.txt  Ad sales boost Time Warner profit   \n",
       "1  business  002.txt   Dollar gains on Greenspan speech   \n",
       "2  business  003.txt  Yukos unit buyer faces loan claim   \n",
       "3  business  004.txt  High fuel prices hit BA's profits   \n",
       "4  business  005.txt  Pernod takeover talk lifts Domecq   \n",
       "\n",
       "                                             content  \n",
       "0   Quarterly profits at US media giant TimeWarne...  \n",
       "1   The dollar has hit its highest level against ...  \n",
       "2   The owners of embattled Russian oil giant Yuk...  \n",
       "3   British Airways has blamed high fuel prices f...  \n",
       "4   Shares in UK drinks and food firm Allied Dome...  "
      ]
     },
     "execution_count": 3,
     "metadata": {},
     "output_type": "execute_result"
    }
   ],
   "source": [
    "csv_bbc_news.head()"
   ]
  },
  {
   "cell_type": "code",
   "execution_count": 4,
   "id": "60950749",
   "metadata": {},
   "outputs": [
    {
     "data": {
      "text/plain": [
       "array(['business', 'entertainment', 'politics', 'sport', 'tech'],\n",
       "      dtype=object)"
      ]
     },
     "execution_count": 4,
     "metadata": {},
     "output_type": "execute_result"
    }
   ],
   "source": [
    "csv_bbc_news['category'].unique()"
   ]
  },
  {
   "cell_type": "code",
   "execution_count": 5,
   "id": "42a35ff8",
   "metadata": {},
   "outputs": [
    {
     "data": {
      "text/plain": [
       "sport            511\n",
       "business         510\n",
       "politics         417\n",
       "tech             401\n",
       "entertainment    386\n",
       "Name: category, dtype: int64"
      ]
     },
     "execution_count": 5,
     "metadata": {},
     "output_type": "execute_result"
    }
   ],
   "source": [
    "csv_bbc_news['category'].value_counts()"
   ]
  },
  {
   "cell_type": "code",
   "execution_count": 6,
   "id": "742e0fa1",
   "metadata": {},
   "outputs": [
    {
     "name": "stderr",
     "output_type": "stream",
     "text": [
      "C:\\Users\\Furkan ICOZ\\AppData\\Local\\Temp\\ipykernel_13948\\54203208.py:3: FutureWarning: The default value of regex will change from True to False in a future version.\n",
      "  csv_bbc_news_new['content']=csv_bbc_news_new['content'].str.replace('[^\\w\\s]','')\n",
      "C:\\Users\\Furkan ICOZ\\AppData\\Local\\Temp\\ipykernel_13948\\54203208.py:4: FutureWarning: The default value of regex will change from True to False in a future version.\n",
      "  csv_bbc_news_new['content']=csv_bbc_news_new['content'].str.replace('\\d','')\n",
      "[nltk_data] Downloading package wordnet to C:\\Users\\Furkan\n",
      "[nltk_data]     ICOZ\\AppData\\Roaming\\nltk_data...\n",
      "[nltk_data]   Package wordnet is already up-to-date!\n",
      "[nltk_data] Downloading package omw-1.4 to C:\\Users\\Furkan\n",
      "[nltk_data]     ICOZ\\AppData\\Roaming\\nltk_data...\n",
      "[nltk_data]   Package omw-1.4 is already up-to-date!\n"
     ]
    }
   ],
   "source": [
    "csv_bbc_news_new=pd.DataFrame(csv_bbc_news,columns=['category','content'])\n",
    "csv_bbc_news_new['content']=csv_bbc_news_new['content'].apply(lambda x: ' '.join(x.lower() for x in x.split()))\n",
    "csv_bbc_news_new['content']=csv_bbc_news_new['content'].str.replace('[^\\w\\s]','')\n",
    "csv_bbc_news_new['content']=csv_bbc_news_new['content'].str.replace('\\d','')\n",
    "sw = stopwords.words('english')\n",
    "csv_bbc_news_new['content']=csv_bbc_news_new['content'].apply(lambda x: ' '.join(x for x in x.split() if x not in sw))\n",
    "nltk.download('wordnet')\n",
    "nltk.download('omw-1.4')\n",
    "csv_bbc_news_new['content']=csv_bbc_news_new['content'].apply(lambda x: ' '.join([Word(i).lemmatize() for i in x.split()]))"
   ]
  },
  {
   "cell_type": "code",
   "execution_count": 7,
   "id": "e645c437",
   "metadata": {},
   "outputs": [],
   "source": [
    "csv_bbc_news_new=csv_bbc_news_new.dropna()"
   ]
  },
  {
   "cell_type": "code",
   "execution_count": 8,
   "id": "115bdaf3",
   "metadata": {
    "scrolled": true
   },
   "outputs": [],
   "source": [
    "X_train, X_test, y_train, y_test = train_test_split(csv_bbc_news_new['content'], csv_bbc_news_new['category'], test_size = 0.2,random_state=42)"
   ]
  },
  {
   "cell_type": "code",
   "execution_count": 9,
   "id": "9d9607e1",
   "metadata": {},
   "outputs": [],
   "source": [
    "rfc =  Pipeline([('vect', CountVectorizer()),\n",
    "             ('tfidf', TfidfTransformer()),\n",
    "               ('rfc', RandomForestClassifier(n_estimators=500,)),\n",
    "                ])"
   ]
  },
  {
   "cell_type": "code",
   "execution_count": 10,
   "id": "29faa64c",
   "metadata": {},
   "outputs": [],
   "source": [
    "?RandomForestClassifier"
   ]
  },
  {
   "cell_type": "code",
   "execution_count": 11,
   "id": "9be1c9c1",
   "metadata": {},
   "outputs": [
    {
     "data": {
      "text/html": [
       "<style>#sk-container-id-1 {color: black;background-color: white;}#sk-container-id-1 pre{padding: 0;}#sk-container-id-1 div.sk-toggleable {background-color: white;}#sk-container-id-1 label.sk-toggleable__label {cursor: pointer;display: block;width: 100%;margin-bottom: 0;padding: 0.3em;box-sizing: border-box;text-align: center;}#sk-container-id-1 label.sk-toggleable__label-arrow:before {content: \"▸\";float: left;margin-right: 0.25em;color: #696969;}#sk-container-id-1 label.sk-toggleable__label-arrow:hover:before {color: black;}#sk-container-id-1 div.sk-estimator:hover label.sk-toggleable__label-arrow:before {color: black;}#sk-container-id-1 div.sk-toggleable__content {max-height: 0;max-width: 0;overflow: hidden;text-align: left;background-color: #f0f8ff;}#sk-container-id-1 div.sk-toggleable__content pre {margin: 0.2em;color: black;border-radius: 0.25em;background-color: #f0f8ff;}#sk-container-id-1 input.sk-toggleable__control:checked~div.sk-toggleable__content {max-height: 200px;max-width: 100%;overflow: auto;}#sk-container-id-1 input.sk-toggleable__control:checked~label.sk-toggleable__label-arrow:before {content: \"▾\";}#sk-container-id-1 div.sk-estimator input.sk-toggleable__control:checked~label.sk-toggleable__label {background-color: #d4ebff;}#sk-container-id-1 div.sk-label input.sk-toggleable__control:checked~label.sk-toggleable__label {background-color: #d4ebff;}#sk-container-id-1 input.sk-hidden--visually {border: 0;clip: rect(1px 1px 1px 1px);clip: rect(1px, 1px, 1px, 1px);height: 1px;margin: -1px;overflow: hidden;padding: 0;position: absolute;width: 1px;}#sk-container-id-1 div.sk-estimator {font-family: monospace;background-color: #f0f8ff;border: 1px dotted black;border-radius: 0.25em;box-sizing: border-box;margin-bottom: 0.5em;}#sk-container-id-1 div.sk-estimator:hover {background-color: #d4ebff;}#sk-container-id-1 div.sk-parallel-item::after {content: \"\";width: 100%;border-bottom: 1px solid gray;flex-grow: 1;}#sk-container-id-1 div.sk-label:hover label.sk-toggleable__label {background-color: #d4ebff;}#sk-container-id-1 div.sk-serial::before {content: \"\";position: absolute;border-left: 1px solid gray;box-sizing: border-box;top: 0;bottom: 0;left: 50%;z-index: 0;}#sk-container-id-1 div.sk-serial {display: flex;flex-direction: column;align-items: center;background-color: white;padding-right: 0.2em;padding-left: 0.2em;position: relative;}#sk-container-id-1 div.sk-item {position: relative;z-index: 1;}#sk-container-id-1 div.sk-parallel {display: flex;align-items: stretch;justify-content: center;background-color: white;position: relative;}#sk-container-id-1 div.sk-item::before, #sk-container-id-1 div.sk-parallel-item::before {content: \"\";position: absolute;border-left: 1px solid gray;box-sizing: border-box;top: 0;bottom: 0;left: 50%;z-index: -1;}#sk-container-id-1 div.sk-parallel-item {display: flex;flex-direction: column;z-index: 1;position: relative;background-color: white;}#sk-container-id-1 div.sk-parallel-item:first-child::after {align-self: flex-end;width: 50%;}#sk-container-id-1 div.sk-parallel-item:last-child::after {align-self: flex-start;width: 50%;}#sk-container-id-1 div.sk-parallel-item:only-child::after {width: 0;}#sk-container-id-1 div.sk-dashed-wrapped {border: 1px dashed gray;margin: 0 0.4em 0.5em 0.4em;box-sizing: border-box;padding-bottom: 0.4em;background-color: white;}#sk-container-id-1 div.sk-label label {font-family: monospace;font-weight: bold;display: inline-block;line-height: 1.2em;}#sk-container-id-1 div.sk-label-container {text-align: center;}#sk-container-id-1 div.sk-container {/* jupyter's `normalize.less` sets `[hidden] { display: none; }` but bootstrap.min.css set `[hidden] { display: none !important; }` so we also need the `!important` here to be able to override the default hidden behavior on the sphinx rendered scikit-learn.org. See: https://github.com/scikit-learn/scikit-learn/issues/21755 */display: inline-block !important;position: relative;}#sk-container-id-1 div.sk-text-repr-fallback {display: none;}</style><div id=\"sk-container-id-1\" class=\"sk-top-container\"><div class=\"sk-text-repr-fallback\"><pre>Pipeline(steps=[(&#x27;vect&#x27;, CountVectorizer()), (&#x27;tfidf&#x27;, TfidfTransformer()),\n",
       "                (&#x27;rfc&#x27;, RandomForestClassifier(n_estimators=500))])</pre><b>In a Jupyter environment, please rerun this cell to show the HTML representation or trust the notebook. <br />On GitHub, the HTML representation is unable to render, please try loading this page with nbviewer.org.</b></div><div class=\"sk-container\" hidden><div class=\"sk-item sk-dashed-wrapped\"><div class=\"sk-label-container\"><div class=\"sk-label sk-toggleable\"><input class=\"sk-toggleable__control sk-hidden--visually\" id=\"sk-estimator-id-1\" type=\"checkbox\" ><label for=\"sk-estimator-id-1\" class=\"sk-toggleable__label sk-toggleable__label-arrow\">Pipeline</label><div class=\"sk-toggleable__content\"><pre>Pipeline(steps=[(&#x27;vect&#x27;, CountVectorizer()), (&#x27;tfidf&#x27;, TfidfTransformer()),\n",
       "                (&#x27;rfc&#x27;, RandomForestClassifier(n_estimators=500))])</pre></div></div></div><div class=\"sk-serial\"><div class=\"sk-item\"><div class=\"sk-estimator sk-toggleable\"><input class=\"sk-toggleable__control sk-hidden--visually\" id=\"sk-estimator-id-2\" type=\"checkbox\" ><label for=\"sk-estimator-id-2\" class=\"sk-toggleable__label sk-toggleable__label-arrow\">CountVectorizer</label><div class=\"sk-toggleable__content\"><pre>CountVectorizer()</pre></div></div></div><div class=\"sk-item\"><div class=\"sk-estimator sk-toggleable\"><input class=\"sk-toggleable__control sk-hidden--visually\" id=\"sk-estimator-id-3\" type=\"checkbox\" ><label for=\"sk-estimator-id-3\" class=\"sk-toggleable__label sk-toggleable__label-arrow\">TfidfTransformer</label><div class=\"sk-toggleable__content\"><pre>TfidfTransformer()</pre></div></div></div><div class=\"sk-item\"><div class=\"sk-estimator sk-toggleable\"><input class=\"sk-toggleable__control sk-hidden--visually\" id=\"sk-estimator-id-4\" type=\"checkbox\" ><label for=\"sk-estimator-id-4\" class=\"sk-toggleable__label sk-toggleable__label-arrow\">RandomForestClassifier</label><div class=\"sk-toggleable__content\"><pre>RandomForestClassifier(n_estimators=500)</pre></div></div></div></div></div></div></div>"
      ],
      "text/plain": [
       "Pipeline(steps=[('vect', CountVectorizer()), ('tfidf', TfidfTransformer()),\n",
       "                ('rfc', RandomForestClassifier(n_estimators=500))])"
      ]
     },
     "execution_count": 11,
     "metadata": {},
     "output_type": "execute_result"
    }
   ],
   "source": [
    "rfc"
   ]
  },
  {
   "cell_type": "code",
   "execution_count": 12,
   "id": "dfe31af1",
   "metadata": {},
   "outputs": [],
   "source": [
    "rfc_model=rfc.fit(X_train,y_train)"
   ]
  },
  {
   "cell_type": "code",
   "execution_count": 13,
   "id": "ca81b081",
   "metadata": {},
   "outputs": [],
   "source": [
    "y_pred_rfc=rfc_model.predict(X_test)"
   ]
  },
  {
   "cell_type": "code",
   "execution_count": 14,
   "id": "ac234dd6",
   "metadata": {},
   "outputs": [
    {
     "data": {
      "text/plain": [
       "0.9617977528089887"
      ]
     },
     "execution_count": 14,
     "metadata": {},
     "output_type": "execute_result"
    }
   ],
   "source": [
    "accuracy_score(y_test,y_pred_rfc)"
   ]
  },
  {
   "cell_type": "code",
   "execution_count": 15,
   "id": "b508a64e",
   "metadata": {},
   "outputs": [
    {
     "data": {
      "text/plain": [
       "414          business\n",
       "420          business\n",
       "1644            sport\n",
       "416          business\n",
       "1232         politics\n",
       "1544            sport\n",
       "1748            sport\n",
       "1264         politics\n",
       "629     entertainment\n",
       "1043         politics\n",
       "Name: category, dtype: object"
      ]
     },
     "execution_count": 15,
     "metadata": {},
     "output_type": "execute_result"
    }
   ],
   "source": [
    "y_test[:10]"
   ]
  },
  {
   "cell_type": "code",
   "execution_count": 16,
   "id": "9df831ee",
   "metadata": {},
   "outputs": [
    {
     "name": "stdout",
     "output_type": "stream",
     "text": [
      "               precision    recall  f1-score   support\n",
      "\n",
      "     business       0.93      0.98      0.96       115\n",
      "entertainment       0.99      0.93      0.96        72\n",
      "     politics       0.95      0.95      0.95        76\n",
      "        sport       0.97      0.99      0.98       102\n",
      "         tech       0.99      0.94      0.96        80\n",
      "\n",
      "     accuracy                           0.96       445\n",
      "    macro avg       0.96      0.96      0.96       445\n",
      " weighted avg       0.96      0.96      0.96       445\n",
      "\n"
     ]
    }
   ],
   "source": [
    "print(classification_report(y_test,y_pred_rfc))"
   ]
  },
  {
   "cell_type": "code",
   "execution_count": 17,
   "id": "061bb19a",
   "metadata": {},
   "outputs": [
    {
     "data": {
      "text/plain": [
       "array(['business', 'business', 'sport', 'business', 'politics', 'sport',\n",
       "       'sport', 'business', 'sport', 'politics'], dtype=object)"
      ]
     },
     "execution_count": 17,
     "metadata": {},
     "output_type": "execute_result"
    }
   ],
   "source": [
    "y_pred_rfc[:10]"
   ]
  },
  {
   "cell_type": "code",
   "execution_count": 18,
   "id": "91fd1b0c",
   "metadata": {},
   "outputs": [],
   "source": [
    "#clf = Pipeline([RandomForestClassifier(n_estimators = 500, max_depth = 4,warm_start=False, max_features = 3, bootstrap = True, random_state = 18)]).fit(X_train, y_train)"
   ]
  },
  {
   "cell_type": "code",
   "execution_count": 19,
   "id": "2b9f5120",
   "metadata": {},
   "outputs": [],
   "source": [
    "def preprocess(news_text):\n",
    "    news_text=pd.Series([news_text])\n",
    "    news_text=news_text.apply(lambda x: ' '.join(x.lower() for x in x.split()))\n",
    "    news_text=news_text.replace('[^\\w\\s]','')\n",
    "    news_text=news_text.replace('\\d','')\n",
    "    sw = stopwords.words('english')\n",
    "    news_text=news_text.apply(lambda x: ' '.join(x for x in x.split() if x not in sw))\n",
    "    nltk.download('wordnet')\n",
    "    nltk.download('omw-1.4')\n",
    "    news_text=news_text.apply(lambda x: ' '.join([Word(i).lemmatize() for i in x.split()]))\n",
    "    return news_text"
   ]
  },
  {
   "cell_type": "code",
   "execution_count": 20,
   "id": "f07cc016",
   "metadata": {},
   "outputs": [
    {
     "name": "stderr",
     "output_type": "stream",
     "text": [
      "[nltk_data] Downloading package wordnet to C:\\Users\\Furkan\n",
      "[nltk_data]     ICOZ\\AppData\\Roaming\\nltk_data...\n",
      "[nltk_data]   Package wordnet is already up-to-date!\n",
      "[nltk_data] Downloading package omw-1.4 to C:\\Users\\Furkan\n",
      "[nltk_data]     ICOZ\\AppData\\Roaming\\nltk_data...\n",
      "[nltk_data]   Package omw-1.4 is already up-to-date!\n"
     ]
    },
    {
     "data": {
      "text/plain": [
       "\"canada dominated large portion group f game wasteful front goal, particularly alphonso davy saw first-half penalty saved belgium keeper thibaut courtois.courtois also save well alistair johnston, canada undone run play stroke half-time michy batshuayi collected toby alderweireld's long ball fired powerful left-foot finish past milan borjan.jonathan david wasted glorious headed chance draw canada level courtois also saved cyle larin. canada also left nursing sense injustice two presentable penalty appeal ignored first half.canada continued push forward second half roberto martinez's side closed win, despite performance made mockery status second world rankings.canada deserved better u way played, martinez told match day. win need play better grow.this tournament going make develop grow tournament go on. winning games, incredible advantage.today didnt win normal talent quality ball, dont win world cup dont side game.\""
      ]
     },
     "execution_count": 20,
     "metadata": {},
     "output_type": "execute_result"
    }
   ],
   "source": [
    "asdsd=preprocess(\"Canada dominated large portions of this Group F game but were wasteful in front of goal, particularly when Alphonso Davies saw a first-half penalty saved by Belgium keeper Thibaut Courtois.Courtois also had to save well from Alistair Johnston, but Canada were undone against the run of play on the stroke of half-time when Michy Batshuayi collected Toby Alderweireld's long ball and fired a powerful left-foot finish past Milan Borjan.Jonathan David wasted a glorious headed chance to draw Canada level and Courtois also saved from Cyle Larin. Canada were also left nursing a sense of injustice after they had two presentable penalty appeals ignored in the first half.Canada continued to push forward in the second half but it was Roberto Martinez's side who closed out the win, despite a performance that made a mockery of their status as second in the world rankings.Canada deserved to be better than us in the way they played, Martinez told Match of the Day. Its a win and we need to play better and to grow.This tournament is going to make you develop and grow as the tournament goes on. If you do that by winning games, its an incredible advantage.Today we didnt win by our normal talent and quality on the ball, but you dont win in the World Cup if you dont do the other side of the game.\")\n",
    "asdsd[0]"
   ]
  },
  {
   "cell_type": "code",
   "execution_count": 21,
   "id": "7f569e7e",
   "metadata": {},
   "outputs": [],
   "source": [
    "test_new_bbc_a=\"Security restrictions on liquids and laptops in airport hand luggage could be axed in the UK within two years thanks to high-tech 3D scanners.The government is considering rolling out the more advanced scanners by mid-2024, a source told the BBC, although a final decision has yet to be made.The equipment, similar to CT scanners used in hospitals, provides a clearer picture of a bag's contents.A previous installation deadline slipped due to the pandemic.The Times newspaper reported that ministers have been carrying out a review and an announcement is due before Christmas, with the hope it could cut down on queues in UK airports.Passengers carrying liquid in their cabin baggage are currently restricted to containers holding no more than 100ml. These must be shown to security staff in a single, transparent, resealable plastic bag, which holds no more than a litre and measures about 20cm (8in) by 20cm.Those limits have been in place since November 2006. Their introduction ended a ban on liquids in the cabin imposed three months earlier, when British police said they had foiled a plot to blow up as many as 10 planes using explosives hidden in drinks bottles.But the new technology enables staff to zoom in on a bag's contents and rotate the images for inspection.\""
   ]
  },
  {
   "cell_type": "code",
   "execution_count": 22,
   "id": "cef8e51a",
   "metadata": {},
   "outputs": [
    {
     "name": "stderr",
     "output_type": "stream",
     "text": [
      "[nltk_data] Downloading package wordnet to C:\\Users\\Furkan\n",
      "[nltk_data]     ICOZ\\AppData\\Roaming\\nltk_data...\n",
      "[nltk_data]   Package wordnet is already up-to-date!\n",
      "[nltk_data] Downloading package omw-1.4 to C:\\Users\\Furkan\n",
      "[nltk_data]     ICOZ\\AppData\\Roaming\\nltk_data...\n",
      "[nltk_data]   Package omw-1.4 is already up-to-date!\n"
     ]
    }
   ],
   "source": [
    "test_new_bbc_a=preprocess(test_new_bbc_a)"
   ]
  },
  {
   "cell_type": "code",
   "execution_count": 23,
   "id": "b747a17c",
   "metadata": {},
   "outputs": [
    {
     "data": {
      "text/plain": [
       "array(['politics'], dtype=object)"
      ]
     },
     "execution_count": 23,
     "metadata": {},
     "output_type": "execute_result"
    }
   ],
   "source": [
    "rfc_model.predict([test_new_bbc_a[0]])"
   ]
  },
  {
   "cell_type": "code",
   "execution_count": 24,
   "id": "f2b42bd0",
   "metadata": {},
   "outputs": [],
   "source": [
    "import matplotlib.pyplot as plt\n",
    "from sklearn.metrics import plot_confusion_matrix"
   ]
  },
  {
   "cell_type": "code",
   "execution_count": 26,
   "id": "cd0371c9",
   "metadata": {},
   "outputs": [
    {
     "name": "stderr",
     "output_type": "stream",
     "text": [
      "C:\\Anaconda3\\lib\\site-packages\\sklearn\\utils\\deprecation.py:87: FutureWarning: Function plot_confusion_matrix is deprecated; Function `plot_confusion_matrix` is deprecated in 1.0 and will be removed in 1.2. Use one of the class methods: ConfusionMatrixDisplay.from_predictions or ConfusionMatrixDisplay.from_estimator.\n",
      "  warnings.warn(msg, category=FutureWarning)\n"
     ]
    },
    {
     "data": {
      "image/png": "[encoded data removed]",
      "text/plain": [
       "<Figure size 432x288 with 2 Axes>"
      ]
     },
     "metadata": {
      "needs_background": "light"
     },
     "output_type": "display_data"
    }
   ],
   "source": [
    "plot_confusion_matrix(rfc_model, X_test, y_test)  \n",
    "plt.show()"
   ]
  },
  {
   "cell_type": "code",
   "execution_count": 28,
   "id": "186a88e0",
   "metadata": {},
   "outputs": [
    {
     "name": "stderr",
     "output_type": "stream",
     "text": [
      "[nltk_data] Downloading package wordnet to C:\\Users\\Furkan\n",
      "[nltk_data]     ICOZ\\AppData\\Roaming\\nltk_data...\n",
      "[nltk_data]   Package wordnet is already up-to-date!\n",
      "[nltk_data] Downloading package omw-1.4 to C:\\Users\\Furkan\n",
      "[nltk_data]     ICOZ\\AppData\\Roaming\\nltk_data...\n",
      "[nltk_data]   Package omw-1.4 is already up-to-date!\n"
     ]
    },
    {
     "data": {
      "text/plain": [
       "array(['business'], dtype=object)"
      ]
     },
     "execution_count": 28,
     "metadata": {},
     "output_type": "execute_result"
    }
   ],
   "source": [
    "test1=\"Cryptocurrency firms Gemini and Genesis have been charged by US regulators with illegally selling crypto assets to hundreds of thousands of investors.The companies are accused of breaking the law by offering and selling the products through their joint programme, Gemini Earn, which launched in 2021.The Securities and Exchange Commission (SEC) is in charge of the case.Gemini was co-founded by twins Tyler and Cameron Winklevoss - known for their legal dispute with Facebook.Tyler called the complaint 'disappointing', and said his company looks forward to defending itself.Genesis, which is owned by the crypto conglomerate Digital Currency Group, has so far not commented on the charges.\"\n",
    "test1=preprocess(test1)\n",
    "rfc_model.predict([test1[0]])"
   ]
  },
  {
   "cell_type": "code",
   "execution_count": null,
   "id": "6ad333ad",
   "metadata": {},
   "outputs": [],
   "source": []
  }
 ],
 "metadata": {
  "kernelspec": {
   "display_name": "Python 3 (ipykernel)",
   "language": "python",
   "name": "python3"
  },
  "language_info": {
   "codemirror_mode": {
    "name": "ipython",
    "version": 3
   },
   "file_extension": ".py",
   "mimetype": "text/x-python",
   "name": "python",
   "nbconvert_exporter": "python",
   "pygments_lexer": "ipython3",
   "version": "3.9.12"
  }
 },
 "nbformat": 4,
 "nbformat_minor": 5
}
